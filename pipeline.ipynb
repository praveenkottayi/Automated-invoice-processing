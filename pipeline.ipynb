{
 "cells": [
  {
   "cell_type": "code",
   "execution_count": 1,
   "metadata": {
    "collapsed": true
   },
   "outputs": [],
   "source": [
    "import cv2\n",
    "import os"
   ]
  },
  {
   "cell_type": "markdown",
   "metadata": {},
   "source": [
    "# threshold "
   ]
  },
  {
   "cell_type": "code",
   "execution_count": 82,
   "metadata": {
    "collapsed": true
   },
   "outputs": [],
   "source": [
    "def load_images_from_folder(folder):\n",
    "    images = []\n",
    "    for filename in os.listdir(folder + \"O_bills/\"):\n",
    "        \n",
    "        if filename.endswith('.png' or '.jpg') :\n",
    "            print(\"processed : \" + filename)\n",
    "            img = cv2.imread(folder+ \"O_bills/\" + filename)\n",
    "            img = cv2.cvtColor(img, cv2.COLOR_BGR2GRAY)\n",
    "            if img is not None:\n",
    "                ret,thresh = cv2.threshold(img,10,255,cv2.THRESH_BINARY+cv2.THRESH_OTSU)\n",
    "                cv2.imwrite(str(\"T_bills/\"+ filename) ,thresh)"
   ]
  },
  {
   "cell_type": "code",
   "execution_count": 83,
   "metadata": {},
   "outputs": [
    {
     "name": "stdout",
     "output_type": "stream",
     "text": [
      "processed : B (10).png\n",
      "processed : B (11).png\n",
      "processed : B (12).png\n",
      "processed : B (3).png\n",
      "processed : B (4).png\n",
      "processed : B (5).png\n",
      "processed : B (6).png\n",
      "processed : B (7).png\n",
      "processed : B (8).png\n",
      "processed : B (9).png\n",
      "processed : B(1).png\n",
      "processed : B(2).png\n"
     ]
    }
   ],
   "source": [
    "load_images_from_folder('C:/Users/1311921/Desktop/AIP/Image_preprocessing_layer/Extracted_Bills/')"
   ]
  },
  {
   "cell_type": "markdown",
   "metadata": {},
   "source": [
    "# OCR "
   ]
  },
  {
   "cell_type": "code",
   "execution_count": 7,
   "metadata": {
    "collapsed": true
   },
   "outputs": [],
   "source": [
    "import subprocess \n",
    "cmd = \"tesseract\"\n",
    "path_input_images = \"C:/Users/1311921/Desktop/AIP/Image_preprocessing_layer/Extracted_Bills/T_bills/\"\n",
    "path_output_images = \"C:/Users/1311921/Desktop/AIP/Image_preprocessing_layer/Extracted_Bills/T_ocr/\"\n",
    "\n",
    "\n",
    "\n",
    "\n",
    "\n",
    "path_input_images = \"G:/Extracted_Bills/T_bills/\"\n",
    "path_output_images = \"G:/Extracted_Bills/T_ocr/\"\n"
   ]
  },
  {
   "cell_type": "code",
   "execution_count": 11,
   "metadata": {},
   "outputs": [],
   "source": [
    "def ocr_tesseract_from_image(folder):    \n",
    "    for filename in os.listdir(folder):\n",
    "        #print(\"processed : \" + filename)\n",
    "        if filename.endswith('.png' or '.jpg' or '.PNG' or '.JPG') :\n",
    "            print(\"ocr : \" + filename)\n",
    "            command = cmd + \" \" + path_input_images + filename + \" \" + path_output_images + filename.split('.')[0] + \" -l eng --psm 6 --oem 2\"\n",
    "            print(command)\n",
    "            try:\n",
    "                subprocess.call(command, shell = True)\n",
    "            except:\n",
    "                print(\"error\")\n",
    "            "
   ]
  },
  {
   "cell_type": "code",
   "execution_count": 12,
   "metadata": {},
   "outputs": [
    {
     "name": "stdout",
     "output_type": "stream",
     "text": [
      "ocr : 1.png\n",
      "tesseract G:/Extracted_Bills/T_bills/1.png G:/Extracted_Bills/T_ocr/1 -l eng --psm 6 --oem 2\n",
      "ocr : 10.png\n",
      "tesseract G:/Extracted_Bills/T_bills/10.png G:/Extracted_Bills/T_ocr/10 -l eng --psm 6 --oem 2\n",
      "ocr : 11.png\n",
      "tesseract G:/Extracted_Bills/T_bills/11.png G:/Extracted_Bills/T_ocr/11 -l eng --psm 6 --oem 2\n",
      "ocr : 12.png\n",
      "tesseract G:/Extracted_Bills/T_bills/12.png G:/Extracted_Bills/T_ocr/12 -l eng --psm 6 --oem 2\n",
      "ocr : 2.png\n",
      "tesseract G:/Extracted_Bills/T_bills/2.png G:/Extracted_Bills/T_ocr/2 -l eng --psm 6 --oem 2\n",
      "ocr : 3.png\n",
      "tesseract G:/Extracted_Bills/T_bills/3.png G:/Extracted_Bills/T_ocr/3 -l eng --psm 6 --oem 2\n",
      "ocr : 4.png\n",
      "tesseract G:/Extracted_Bills/T_bills/4.png G:/Extracted_Bills/T_ocr/4 -l eng --psm 6 --oem 2\n",
      "ocr : 5.png\n",
      "tesseract G:/Extracted_Bills/T_bills/5.png G:/Extracted_Bills/T_ocr/5 -l eng --psm 6 --oem 2\n",
      "ocr : 6.png\n",
      "tesseract G:/Extracted_Bills/T_bills/6.png G:/Extracted_Bills/T_ocr/6 -l eng --psm 6 --oem 2\n",
      "ocr : 7.png\n",
      "tesseract G:/Extracted_Bills/T_bills/7.png G:/Extracted_Bills/T_ocr/7 -l eng --psm 6 --oem 2\n",
      "ocr : 8.png\n",
      "tesseract G:/Extracted_Bills/T_bills/8.png G:/Extracted_Bills/T_ocr/8 -l eng --psm 6 --oem 2\n",
      "ocr : 9.png\n",
      "tesseract G:/Extracted_Bills/T_bills/9.png G:/Extracted_Bills/T_ocr/9 -l eng --psm 6 --oem 2\n"
     ]
    }
   ],
   "source": [
    "ocr_tesseract_from_image(path_input_images)"
   ]
  },
  {
   "cell_type": "code",
   "execution_count": null,
   "metadata": {
    "collapsed": true
   },
   "outputs": [],
   "source": []
  }
 ],
 "metadata": {
  "kernelspec": {
   "display_name": "Python 3",
   "language": "python",
   "name": "python3"
  },
  "language_info": {
   "codemirror_mode": {
    "name": "ipython",
    "version": 3
   },
   "file_extension": ".py",
   "mimetype": "text/x-python",
   "name": "python",
   "nbconvert_exporter": "python",
   "pygments_lexer": "ipython3",
   "version": "3.5.4"
  }
 },
 "nbformat": 4,
 "nbformat_minor": 2
}
